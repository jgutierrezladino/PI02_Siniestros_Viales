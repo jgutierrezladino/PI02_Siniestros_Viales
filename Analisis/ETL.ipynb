{
 "cells": [
  {
   "cell_type": "markdown",
   "metadata": {},
   "source": [
    "## ETL"
   ]
  },
  {
   "cell_type": "code",
   "execution_count": 2,
   "metadata": {},
   "outputs": [],
   "source": [
    "import pandas as pd\n",
    "import numpy as np\n",
    "import matplotlib.pyplot as plt\n",
    "import seaborn as sns"
   ]
  },
  {
   "cell_type": "code",
   "execution_count": 4,
   "metadata": {},
   "outputs": [],
   "source": [
    "homicidios = pd.read_excel(\"../Datasets/homicidios.xlsx\",sheet_name=None)\n",
    "lesiones = pd.read_excel(\"../Datasets/lesiones.xlsx\")"
   ]
  },
  {
   "cell_type": "code",
   "execution_count": 7,
   "metadata": {},
   "outputs": [
    {
     "name": "stdout",
     "output_type": "stream",
     "text": [
      "       N_VICTIMAS                          FECHA         AAAA          MM  \\\n",
      "count  696.000000                            696   696.000000  696.000000   \n",
      "mean     1.030172  2018-09-14 05:12:24.827586048  2018.188218    6.692529   \n",
      "min      1.000000            2016-01-01 00:00:00  2016.000000    1.000000   \n",
      "25%      1.000000            2017-04-02 12:00:00  2017.000000    4.000000   \n",
      "50%      1.000000            2018-07-12 12:00:00  2018.000000    7.000000   \n",
      "75%      1.000000            2020-01-04 06:00:00  2020.000000   10.000000   \n",
      "max      3.000000            2021-12-30 00:00:00  2021.000000   12.000000   \n",
      "std      0.179393                            NaN     1.683754    3.571309   \n",
      "\n",
      "               DD        Altura      COMUNA  \n",
      "count  696.000000    129.000000  696.000000  \n",
      "mean    15.936782   3336.635659    7.425287  \n",
      "min      1.000000     30.000000    0.000000  \n",
      "25%      9.000000   1359.000000    4.000000  \n",
      "50%     16.000000   2551.000000    8.000000  \n",
      "75%     23.000000   4500.000000   11.000000  \n",
      "max     31.000000  16080.000000   15.000000  \n",
      "std      8.639646   3060.641793    4.387050  \n"
     ]
    }
   ],
   "source": [
    "print(homicidios[\"HECHOS\"].describe())"
   ]
  },
  {
   "cell_type": "markdown",
   "metadata": {},
   "source": [
    "* Dando un vistazo, por el momento lo unico que pude ver basandome en la organizacion de Buenos Aires Argentina (ARG), no existe ninguna comuna numero cero (0) por lo que el valor minimo en la columna 'COMUNA' deberia ser 1."
   ]
  },
  {
   "cell_type": "code",
   "execution_count": 11,
   "metadata": {},
   "outputs": [
    {
     "name": "stdout",
     "output_type": "stream",
     "text": [
      "            ID  N_VICTIMAS      FECHA  AAAA  MM  DD      HORA  HH  \\\n",
      "119  2016-0151           1 2016-11-18  2016  11  18  20:35:00  20   \n",
      "139  2016-0174           1 2016-12-27  2016  12  27  00:00:00   0   \n",
      "\n",
      "          LUGAR_DEL_HECHO TIPO_DE_CALLE  ... Altura  Cruce  \\\n",
      "119                    SD         CALLE  ...    NaN    NaN   \n",
      "139  AUTOPISTA 25 DE MAYO     AUTOPISTA  ...    NaN    NaN   \n",
      "\n",
      "    Dirección Normalizada COMUNA    XY (CABA) pos x pos y PARTICIPANTES  \\\n",
      "119                   NaN      0  Point (. .)     .     .     PEATON-SD   \n",
      "139  AUTOPISTA 25 DE MAYO      0  Point (. .)     .     .         SD-SD   \n",
      "\n",
      "    VICTIMA ACUSADO  \n",
      "119  PEATON      SD  \n",
      "139      SD      SD  \n",
      "\n",
      "[2 rows x 21 columns]\n"
     ]
    }
   ],
   "source": [
    "comuna_cero = homicidios[\"HECHOS\"][homicidios[\"HECHOS\"]['COMUNA']==0]\n",
    "print(comuna_cero)"
   ]
  },
  {
   "cell_type": "markdown",
   "metadata": {},
   "source": [
    "* Ahora bien, ya sabemos que las filas 119 y 139 contienen datos erroneos o faltantes necesarios para el analisis, por lo que no las tendremos en cuenta en adelante."
   ]
  },
  {
   "cell_type": "code",
   "execution_count": 12,
   "metadata": {},
   "outputs": [],
   "source": [
    "homicidios[\"HECHOS\"] = homicidios[\"HECHOS\"].drop(comuna_cero.index)"
   ]
  },
  {
   "cell_type": "markdown",
   "metadata": {},
   "source": [
    "* Analisamos si existen duplicados en la columna ID."
   ]
  },
  {
   "cell_type": "code",
   "execution_count": 19,
   "metadata": {},
   "outputs": [
    {
     "name": "stdout",
     "output_type": "stream",
     "text": [
      "Empty DataFrame\n",
      "Columns: [ID, N_VICTIMAS, FECHA, AAAA, MM, DD, HORA, HH, LUGAR_DEL_HECHO, TIPO_DE_CALLE, Calle, Altura, Cruce, Dirección Normalizada, COMUNA, XY (CABA), pos x, pos y, PARTICIPANTES, VICTIMA, ACUSADO]\n",
      "Index: []\n",
      "\n",
      "[0 rows x 21 columns]\n"
     ]
    }
   ],
   "source": [
    "duplicados_id = homicidios['HECHOS']['ID'].duplicated(keep=False)\n",
    "\n",
    "\n",
    "filas_duplicadas_id = homicidios['HECHOS'][duplicados_id]\n",
    "print(filas_duplicadas_id)"
   ]
  },
  {
   "cell_type": "markdown",
   "metadata": {},
   "source": [
    "* No hay duplicados asi que procedemos a analizar los datos."
   ]
  },
  {
   "cell_type": "code",
   "execution_count": 18,
   "metadata": {},
   "outputs": [
    {
     "name": "stdout",
     "output_type": "stream",
     "text": [
      "<class 'pandas.core.frame.DataFrame'>\n",
      "Index: 694 entries, 0 to 695\n",
      "Data columns (total 21 columns):\n",
      " #   Column                 Non-Null Count  Dtype         \n",
      "---  ------                 --------------  -----         \n",
      " 0   ID                     694 non-null    object        \n",
      " 1   N_VICTIMAS             694 non-null    int64         \n",
      " 2   FECHA                  694 non-null    datetime64[ns]\n",
      " 3   AAAA                   694 non-null    int64         \n",
      " 4   MM                     694 non-null    int64         \n",
      " 5   DD                     694 non-null    int64         \n",
      " 6   HORA                   694 non-null    object        \n",
      " 7   HH                     694 non-null    object        \n",
      " 8   LUGAR_DEL_HECHO        694 non-null    object        \n",
      " 9   TIPO_DE_CALLE          694 non-null    object        \n",
      " 10  Calle                  694 non-null    object        \n",
      " 11  Altura                 129 non-null    float64       \n",
      " 12  Cruce                  525 non-null    object        \n",
      " 13  Dirección Normalizada  687 non-null    object        \n",
      " 14  COMUNA                 694 non-null    int64         \n",
      " 15  XY (CABA)              694 non-null    object        \n",
      " 16  pos x                  694 non-null    object        \n",
      " 17  pos y                  694 non-null    object        \n",
      " 18  PARTICIPANTES          694 non-null    object        \n",
      " 19  VICTIMA                694 non-null    object        \n",
      " 20  ACUSADO                694 non-null    object        \n",
      "dtypes: datetime64[ns](1), float64(1), int64(5), object(14)\n",
      "memory usage: 119.3+ KB\n",
      "None\n"
     ]
    }
   ],
   "source": [
    "print(homicidios[\"HECHOS\"].info())"
   ]
  },
  {
   "cell_type": "markdown",
   "metadata": {},
   "source": [
    "* Analizando el resultado respecto a los datos nulos y revisando el diccionario de los hechos podemos entender que para el caso no es indispensable la columna 'ALTURA' en los casos donde se encuentra un cruce, y de esta misma manera cuando hay valores faltantes en la columna 'CRUCE' corresponde a que es a una altura especifica."
   ]
  },
  {
   "cell_type": "markdown",
   "metadata": {},
   "source": [
    "### Graficos"
   ]
  },
  {
   "cell_type": "markdown",
   "metadata": {},
   "source": [
    "* Desarrollo un grafico de barras para analizar el comportamiento de los datos y hallar posibles errores."
   ]
  },
  {
   "cell_type": "code",
   "execution_count": 29,
   "metadata": {},
   "outputs": [
    {
     "data": {
      "image/png": "[encoded data removed]",
      "text/plain": [
       "<Figure size 640x480 with 1 Axes>"
      ]
     },
     "metadata": {},
     "output_type": "display_data"
    }
   ],
   "source": [
    "# Suponiendo que 'columna' es la columna que deseas visualizar\n",
    "conteo_categorias = homicidios['HECHOS']['VICTIMA'].value_counts()\n",
    "# Ordena las categorías por frecuencia en orden descendente\n",
    "conteo_categorias = conteo_categorias.sort_values(ascending=False)\n",
    "# Crea el gráfico de barras\n",
    "sns.countplot(data=homicidios['HECHOS'], x=homicidios['HECHOS']['VICTIMA'], order=conteo_categorias.index)\n",
    "plt.xticks(rotation=90)\n",
    "plt.xlabel('Categorías')\n",
    "plt.ylabel('Frecuencia')\n",
    "plt.title('Gráfico de Barras para Datos Categóricos')\n",
    "for p in plt.gca().patches:\n",
    "    plt.gca().annotate(f'{p.get_height()}', (p.get_x() + p.get_width() / 2., p.get_height()),\n",
    "                ha='center', va='center', xytext=(0, 10), textcoords='offset points')\n",
    "plt.show()\n",
    "plt.show()"
   ]
  },
  {
   "cell_type": "markdown",
   "metadata": {},
   "source": [
    "* Encontramos en el grafico que hay valores erroneos, ya que analizando el diccionario 'SD' me dice que no tengo datos acerca de la victima y 'OBJETO FIJO', 'PEATON MOTO' no estan definidos como victimas, por lo que procedemos a buscar estos casos en la hoja de 'VICTIMAS' para evaluar si se pueden encontrar los datos."
   ]
  },
  {
   "cell_type": "code",
   "execution_count": 30,
   "metadata": {},
   "outputs": [
    {
     "name": "stdout",
     "output_type": "stream",
     "text": [
      "['2017-0108', '2020-0063']\n"
     ]
    }
   ],
   "source": [
    "# Filtro filas por hechos\n",
    "filas_victimas_especificas = homicidios['HECHOS'][(homicidios['HECHOS']['VICTIMA'] == 'PEATON_MOTO') | (homicidios['HECHOS']['VICTIMA'] == 'OBJETO FIJO')]\n",
    "# Hago una fila de los ID filtrados\n",
    "lista_ids = filas_victimas_especificas['ID'].tolist()\n",
    "# Imprimo resultados\n",
    "print(lista_ids)"
   ]
  },
  {
   "cell_type": "markdown",
   "metadata": {},
   "source": [
    "* Estos ID son los que debo evaluar."
   ]
  },
  {
   "cell_type": "code",
   "execution_count": 31,
   "metadata": {},
   "outputs": [
    {
     "name": "stdout",
     "output_type": "stream",
     "text": [
      "      ID_hecho      FECHA  AAAA  MM  DD                   ROL VICTIMA  \\\n",
      "237  2017-0108 2017-09-02  2017   9   2  PASAJERO_ACOMPAÑANTE    AUTO   \n",
      "238  2017-0108 2017-09-02  2017   9   2  PASAJERO_ACOMPAÑANTE    AUTO   \n",
      "602  2020-0063 2020-12-05  2020  12   5                PEATON  PEATON   \n",
      "603  2020-0063 2020-12-05  2020  12   5  PASAJERO_ACOMPAÑANTE    MOTO   \n",
      "\n",
      "          SEXO EDAD  FECHA_FALLECIMIENTO  \n",
      "237  MASCULINO   17  2017-09-02 00:00:00  \n",
      "238  MASCULINO   10  2017-09-02 00:00:00  \n",
      "602  MASCULINO   38  2020-12-05 00:00:00  \n",
      "603  MASCULINO   21  2020-12-05 00:00:00  \n"
     ]
    }
   ],
   "source": [
    "# Transformo la columna de ID en lista para mejor manejo\n",
    "conjunto_ids = set(lista_ids)\n",
    "# Filtro la columna \"VICTIMA\" \n",
    "filas_filtradas = homicidios['VICTIMAS'][homicidios['VICTIMAS']['ID_hecho'].isin(conjunto_ids)]\n",
    "# Imprimo resultado\n",
    "print(filas_filtradas)"
   ]
  },
  {
   "cell_type": "markdown",
   "metadata": {},
   "source": [
    "* Aca podemos ver que el error radica en la columna 'VICTIMA' ya que para los dos ID se debe reemplazar valores acorde a la definicion del diccionario."
   ]
  },
  {
   "cell_type": "code",
   "execution_count": 32,
   "metadata": {},
   "outputs": [],
   "source": [
    "fila_a_modificar = homicidios['HECHOS'][homicidios['HECHOS']['ID'] == '2017-0108']\n",
    "\n",
    "# Hago el respectivo ajuste.\n",
    "homicidios['HECHOS'].loc[fila_a_modificar.index, 'VICTIMA'] = 'AUTO'\n",
    "homicidios['HECHOS'].loc[fila_a_modificar.index, 'ACUSADO'] = 'OBJETO FIJO'"
   ]
  },
  {
   "cell_type": "markdown",
   "metadata": {},
   "source": [
    "Guardo los Datasets para poder trabajarlos mas adelante."
   ]
  },
  {
   "cell_type": "code",
   "execution_count": 33,
   "metadata": {},
   "outputs": [],
   "source": [
    "homicidios['HECHOS'].to_excel('../Datasets/homicidios_HECHOS.xlsx', index=False)\n",
    "homicidios['VICTIMAS'].to_excel('../Datasets/homicidios_VICTIMAS.xlsx', index=False)"
   ]
  }
 ],
 "metadata": {
  "kernelspec": {
   "display_name": "Python 3",
   "language": "python",
   "name": "python3"
  },
  "language_info": {
   "codemirror_mode": {
    "name": "ipython",
    "version": 3
   },
   "file_extension": ".py",
   "mimetype": "text/x-python",
   "name": "python",
   "nbconvert_exporter": "python",
   "pygments_lexer": "ipython3",
   "version": "3.11.4"
  }
 },
 "nbformat": 4,
 "nbformat_minor": 2
}
